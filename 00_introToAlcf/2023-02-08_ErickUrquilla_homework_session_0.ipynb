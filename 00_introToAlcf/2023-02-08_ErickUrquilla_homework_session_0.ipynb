{
 "cells": [
  {
   "cell_type": "markdown",
   "id": "0dc72d83-859e-49c6-be44-00c5bbf1b33c",
   "metadata": {},
   "source": [
    "Here is my homework"
   ]
  },
  {
   "cell_type": "code",
   "execution_count": 1,
   "id": "f68f7191-beef-4419-8c47-972b0c1ceaae",
   "metadata": {},
   "outputs": [
    {
     "name": "stdout",
     "output_type": "stream",
     "text": [
      "testing...\n"
     ]
    }
   ],
   "source": [
    "import os,sys\n",
    "print(\"testing...\")"
   ]
  },
  {
   "cell_type": "code",
   "execution_count": null,
   "id": "c63a88db-26ac-4fb0-87c0-078d7111b8ae",
   "metadata": {},
   "outputs": [],
   "source": []
  }
 ],
 "metadata": {
  "kernelspec": {
   "display_name": "Python 3 (ipykernel)",
   "language": "python",
   "name": "python3"
  },
  "language_info": {
   "codemirror_mode": {
    "name": "ipython",
    "version": 3
   },
   "file_extension": ".py",
   "mimetype": "text/x-python",
   "name": "python",
   "nbconvert_exporter": "python",
   "pygments_lexer": "ipython3",
   "version": "3.9.15"
  }
 },
 "nbformat": 4,
 "nbformat_minor": 5
}
